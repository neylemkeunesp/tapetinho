{
 "cells": [
  {
   "cell_type": "code",
   "execution_count": 19,
   "metadata": {},
   "outputs": [],
   "source": [
    "from PIL import Image\n",
    "from fpdf import FPDF\n",
    "import os\n",
    "\n",
    "def imagens_para_pdf(diretorio, nome_pdf):\n",
    "    imagens = [i for i in os.listdir(diretorio) if i.endswith(\".png\")]\n",
    "    imagens.sort()  # se quiser que as imagens estejam em ordem\n",
    "\n",
    "    pdf = FPDF('L', 'mm', 'A4')  # Cria um objeto PDF em modo paisagem ('L') com tamanho de página A4\n",
    "\n",
    "    for imagem in imagens:\n",
    "        pdf.add_page()\n",
    "        img = Image.open(os.path.join(diretorio, imagem))\n",
    "        # Converte o tamanho da imagem para A4 (297x210 mm)\n",
    "        #img = img.resize((297*2, 210*2), Image.Resampling.LANCZOS)\n",
    "        #img.save(\"temp.jpg\", \"JPEG\")  # Salva a imagem temporariamente em formato JPEG\n",
    "        img = img.resize((297*2, 160*2), Image.Resampling.LANCZOS)\n",
    "        pdf.image(\"data/Capitulo_1_Tapetinho/\"+imagem, 0, 0, 297, 160)  # Adiciona a imagem ao PDF\n",
    "\n",
    "    #os.remove(\"temp.jpg\")  # Remove a imagem temporária\n",
    "\n",
    "    pdf.output(nome_pdf, \"F\")  # Salva o PDF\n",
    "\n",
    "# Uso da função\n",
    "imagens_para_pdf(\"data/Capitulo_1_Tapetinho\", \"capitulo1.pdf\")"
   ]
  },
  {
   "cell_type": "code",
   "execution_count": null,
   "metadata": {},
   "outputs": [],
   "source": []
  }
 ],
 "metadata": {
  "kernelspec": {
   "display_name": "Python 3",
   "language": "python",
   "name": "python3"
  },
  "language_info": {
   "codemirror_mode": {
    "name": "ipython",
    "version": 3
   },
   "file_extension": ".py",
   "mimetype": "text/x-python",
   "name": "python",
   "nbconvert_exporter": "python",
   "pygments_lexer": "ipython3",
   "version": "3.10.12"
  }
 },
 "nbformat": 4,
 "nbformat_minor": 2
}
